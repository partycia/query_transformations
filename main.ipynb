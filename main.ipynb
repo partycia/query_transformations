{
 "cells": [
  {
   "cell_type": "code",
   "execution_count": 39,
   "metadata": {},
   "outputs": [],
   "source": [
    "from llama_index import download_loader, ServiceContext, VectorStoreIndex\n",
    "from dotenv import load_dotenv, find_dotenv\n",
    "from llama_index.llms import OpenAI\n",
    "import openai\n",
    "import os\n",
    "_ = load_dotenv(find_dotenv()) # read local .env file\n",
    "openai.api_key = os.environ['OPENAI_API_KEY']\n",
    "\n",
    "llm = OpenAI(model=\"gpt-3.5-turbo\")\n",
    "\n",
    "WikipediaReader = download_loader(\"WikipediaReader\")\n",
    "\n",
    "loader = WikipediaReader()\n",
    "pages = ['Nicolas_Cage_filmography', 'The_Best_of_Times_(1981_film)', 'Nicolas_Cage']\n",
    "documents = loader.load_data(pages=pages, auto_suggest=False, redirect = False)"
   ]
  },
  {
   "cell_type": "code",
   "execution_count": 40,
   "metadata": {},
   "outputs": [],
   "source": [
    "from langchain.docstore.document import Document\n",
    "docs = [Document(page_content=documents[i].get_content(), metadata={\"source\": \"https://en.wikipedia.org/wiki/\" + pages[i]}) for i in range(len(documents))]"
   ]
  },
  {
   "cell_type": "code",
   "execution_count": 9,
   "metadata": {},
   "outputs": [],
   "source": [
    "text = [doc.page_content for doc in docs]"
   ]
  },
  {
   "cell_type": "code",
   "execution_count": 44,
   "metadata": {},
   "outputs": [
    {
     "name": "stdout",
     "output_type": "stream",
     "text": [
      "page_content='Nicolas Cage is an American actor and producer who began his acting career in 1981 with a role in the television pilot The Best of Times. The following year, Cage made his feature film acting debut in Fast Times at Ridgemont High, the second and last time he was credited by his birth name Nicolas Coppola; he later changed his name professionally to avoid allegations of nepotism due to his connection to the Coppola family. In 1983, Cage starred in a leading role in the teen romantic comedy Valley Girl alongside Deborah Foreman; the film was praised by critics and summarized by Rotten Tomatoes as a \"goofy yet amiable film\" with \"engaging performances from its two leads.\"In 1984, Cage portrayed a fictionalized version of Irish-American mob hitman Mad Dog Coll (\"Vincent Dwyer\") in The Cotton Club and appeared in Birdy, a feature chosen by the National Board of Review as one of the top ten films of that year' metadata={'source': 'https://en.wikipedia.org/wiki/Nicolas_Cage_filmography'}\n",
      "\n",
      "Total chunks: 74\n"
     ]
    }
   ],
   "source": [
    "from langchain.text_splitter import RecursiveCharacterTextSplitter, SentenceTransformersTokenTextSplitter\n",
    "character_splitter = RecursiveCharacterTextSplitter(\n",
    "    separators=[\"\\n\\n\", \"\\n\", \". \", \" \", \"\"],\n",
    "    chunk_size=1000,\n",
    "    chunk_overlap=0\n",
    ")\n",
    "docs = character_splitter.split_documents(docs)\n",
    "\n",
    "print(docs[0])\n",
    "print(f\"\\nTotal chunks: {len(docs)}\")"
   ]
  },
  {
   "cell_type": "code",
   "execution_count": 47,
   "metadata": {},
   "outputs": [],
   "source": [
    "query = \"Who directed the first movie in which Nicolas Cage appeared?\"\n",
    "\n",
    "from langchain_community.vectorstores import FAISS\n",
    "from langchain_openai import OpenAIEmbeddings\n",
    "\n",
    "embeddings = OpenAIEmbeddings()\n",
    "db = FAISS.from_documents(docs, embeddings)\n",
    "retriever = db.as_retriever(search_kwargs= {\"k\": 3})\n",
    "retrieved_docs = retriever.get_relevant_documents(query)"
   ]
  },
  {
   "cell_type": "code",
   "execution_count": 48,
   "metadata": {},
   "outputs": [
    {
     "data": {
      "text/plain": [
       "[Document(page_content='Nicolas Kim Coppola (born January 7, 1964), known by his stage name Nicolas Cage, is an American actor and film producer. He is the recipient of various accolades, including an Academy Award, a Screen Actors Guild Award, and a Golden Globe Award. Known for his versatility as an actor, his participation in various film genres has gained him a cult following.Born into the Coppola family, Cage began his career in films such as Fast Times at Ridgemont High (1982) and Valley Girl (1983), as well various films by his uncle Francis Ford Coppola such as Rumble Fish (1983), The Cotton Club (1984), and Peggy Sue Got Married (1986). He earned critical success for his roles in Moonstruck (1987) and  Raising Arizona (1987), and earned an Academy Award for Best Actor for his performance in the dramatic film Leaving Las Vegas (1995). He received another Academy Award nomination for his performance as twins Charlie and Donald Kaufman in the comedy-drama film Adaptation (2002).', metadata={'source': 'https://en.wikipedia.org/wiki/Nicolas_Cage'}),\n",
       " Document(page_content='Nicolas Cage is an American actor and producer who began his acting career in 1981 with a role in the television pilot The Best of Times. The following year, Cage made his feature film acting debut in Fast Times at Ridgemont High, the second and last time he was credited by his birth name Nicolas Coppola; he later changed his name professionally to avoid allegations of nepotism due to his connection to the Coppola family. In 1983, Cage starred in a leading role in the teen romantic comedy Valley Girl alongside Deborah Foreman; the film was praised by critics and summarized by Rotten Tomatoes as a \"goofy yet amiable film\" with \"engaging performances from its two leads.\"In 1984, Cage portrayed a fictionalized version of Irish-American mob hitman Mad Dog Coll (\"Vincent Dwyer\") in The Cotton Club and appeared in Birdy, a feature chosen by the National Board of Review as one of the top ten films of that year', metadata={'source': 'https://en.wikipedia.org/wiki/Nicolas_Cage_filmography'}),\n",
       " Document(page_content=\". In this film Nicolas Cage is a tormented man who hires a 15-year-old boy (played by Tye Sheridan) and protects him from his abusive father. The film premiered at the 70th Venice International Film Festival on August 30, 2013, with a subsequent screening at the 2013 Toronto International Film Festival. It was a box office flop, grossing only $2.36 million from a $4 million budget, but received critical acclaim from critics, who praised Cage's performance and Green's direction.\", metadata={'source': 'https://en.wikipedia.org/wiki/Nicolas_Cage'})]"
      ]
     },
     "execution_count": 48,
     "metadata": {},
     "output_type": "execute_result"
    }
   ],
   "source": [
    "retrieved_docs"
   ]
  },
  {
   "cell_type": "code",
   "execution_count": 49,
   "metadata": {},
   "outputs": [
    {
     "data": {
      "text/plain": [
       "'The context does not provide information about the director of the first movie in which Nicolas Cage appeared.'"
      ]
     },
     "execution_count": 49,
     "metadata": {},
     "output_type": "execute_result"
    }
   ],
   "source": [
    "from langchain_openai import ChatOpenAI\n",
    "from langchain_core.prompts import ChatPromptTemplate\n",
    "from langchain.schema import StrOutputParser\n",
    "from langchain_core.runnables import RunnablePassthrough\n",
    "\n",
    "template = \"\"\"Answer the question based only on the following context:\n",
    "\n",
    "{context}\n",
    "\n",
    "Question: {question}\n",
    "\"\"\"\n",
    "prompt = ChatPromptTemplate.from_template(template)\n",
    "model = ChatOpenAI()\n",
    "\n",
    "def format_docs(retrieved_docs: list):\n",
    "    return \"\\n\\n\".join([d.page_content for d in retrieved_docs])\n",
    "\n",
    "\n",
    "chain = (\n",
    "    {\"context\": retriever | format_docs, \"question\": RunnablePassthrough()}\n",
    "    | prompt\n",
    "    | model\n",
    "    | StrOutputParser()\n",
    ")\n",
    "chain.invoke(query)\n"
   ]
  },
  {
   "cell_type": "markdown",
   "metadata": {},
   "source": [
    "# Expantion with multiple queries"
   ]
  },
  {
   "cell_type": "code",
   "execution_count": null,
   "metadata": {},
   "outputs": [],
   "source": []
  },
  {
   "cell_type": "markdown",
   "metadata": {},
   "source": [
    "# sub questions"
   ]
  },
  {
   "cell_type": "code",
   "execution_count": 60,
   "metadata": {},
   "outputs": [
    {
     "data": {
      "text/markdown": [
       "**Prompt Key**: question_gen_prompt<br>**Text:** <br>"
      ],
      "text/plain": [
       "<IPython.core.display.Markdown object>"
      ]
     },
     "metadata": {},
     "output_type": "display_data"
    },
    {
     "name": "stdout",
     "output_type": "stream",
     "text": [
      "You are a world class state of the art agent.\n",
      "\n",
      "You have access to multiple tools, each representing a different data source or API.\n",
      "Each of the tools has a name and a description, formatted as a JSON dictionary.\n",
      "The keys of the dictionary are the names of the tools and the values are the descriptions.\n",
      "Your purpose is to help answer a complex user question by generating a list of sub questions that can be answered by the tools.\n",
      "\n",
      "These are the guidelines you consider when completing your task:\n",
      "* Be as specific as possible\n",
      "* The sub questions should be relevant to the user question\n",
      "* The sub questions should be answerable by the tools provided\n",
      "* You can generate multiple sub questions for each tool\n",
      "* Tools must be specified by their name, not their description\n",
      "* You don't need to use a tool if you don't think it's relevant\n",
      "\n",
      "Output the list of sub questions by calling the SubQuestionList function.\n",
      "\n",
      "## Tools\n",
      "```json\n",
      "{tools_str}\n",
      "```\n",
      "\n",
      "## User Question\n",
      "{query_str}\n",
      "\n"
     ]
    },
    {
     "data": {
      "text/markdown": [
       "<br><br>"
      ],
      "text/plain": [
       "<IPython.core.display.Markdown object>"
      ]
     },
     "metadata": {},
     "output_type": "display_data"
    }
   ],
   "source": [
    "from llama_index.question_gen.openai_generator import OpenAIQuestionGenerator\n",
    "from llama_index.question_gen.llm_generators import LLMQuestionGenerator\n",
    "from IPython.display import Markdown, display\n",
    "\n",
    "\n",
    "def display_prompt_dict(prompts_dict):\n",
    "    for k, p in prompts_dict.items():\n",
    "        text_md = f\"**Prompt Key**: {k}<br>\" f\"**Text:** <br>\"\n",
    "        display(Markdown(text_md))\n",
    "        print(p.get_template())\n",
    "        display(Markdown(\"<br><br>\"))\n",
    "\n",
    "from llama_index.llms import OpenAI\n",
    "llm = OpenAI()\n",
    "question_gen = OpenAIQuestionGenerator.from_defaults(llm=llm)\n",
    "display_prompt_dict(question_gen.get_prompts())"
   ]
  }
 ],
 "metadata": {
  "kernelspec": {
   "display_name": "llama-test",
   "language": "python",
   "name": "python3"
  },
  "language_info": {
   "codemirror_mode": {
    "name": "ipython",
    "version": 3
   },
   "file_extension": ".py",
   "mimetype": "text/x-python",
   "name": "python",
   "nbconvert_exporter": "python",
   "pygments_lexer": "ipython3",
   "version": "3.10.13"
  }
 },
 "nbformat": 4,
 "nbformat_minor": 2
}
