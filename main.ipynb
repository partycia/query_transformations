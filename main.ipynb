{
 "cells": [
  {
   "cell_type": "code",
   "execution_count": 20,
   "metadata": {},
   "outputs": [],
   "source": [
    "from llama_index import download_loader, ServiceContext, VectorStoreIndex\n",
    "from dotenv import load_dotenv, find_dotenv\n",
    "from llama_index.llms import OpenAI\n",
    "import openai\n",
    "from llama_index.embeddings import OpenAIEmbedding\n",
    "from llama_index.embeddings.openai import OpenAIEmbeddingModelType\n",
    "import os\n",
    "\n",
    "_ = load_dotenv(find_dotenv()) # read local .env file\n",
    "openai.api_key = os.environ['OPENAI_API_KEY']\n",
    "\n",
    "WikipediaReader = download_loader(\"WikipediaReader\")\n",
    "\n",
    "loader = WikipediaReader()\n",
    "pages = ['Nicolas_Cage', 'The_Best_of_Times_(1981_film)', 'Leonardo DiCaprio']\n",
    "documents = loader.load_data(pages=pages, auto_suggest=False, redirect = False)\n",
    "llm = OpenAI(temperature=0, model=\"gpt-3.5-turbo\")\n",
    "gpt3 = OpenAI(temperature=0, model=\"text-davinci-003\")\n",
    "\n",
    "embed_model = OpenAIEmbedding(model= OpenAIEmbeddingModelType.TEXT_EMBED_ADA_002)\n",
    "\n",
    "service_context_gpt3 = ServiceContext.from_defaults(llm=gpt3, chunk_size = 256, chunk_overlap=0, embed_model=embed_model)\n",
    "\n",
    "index = VectorStoreIndex.from_documents(documents, service_context=service_context_gpt3)\n",
    "\n",
    "retriever = index.as_retriever(similarity_top_k=3)"
   ]
  },
  {
   "cell_type": "code",
   "execution_count": 2,
   "metadata": {},
   "outputs": [],
   "source": [
    "# The response from original prompt\n",
    "from llama_index.prompts import PromptTemplate\n",
    "\n",
    "template = (\n",
    "\"We have provided context information below. \\n\"\n",
    "    \"---------------------\\n\"\n",
    "    \"{context_str}\"\n",
    "    \"\\n---------------------\\n\"\n",
    "    \"Given this information, please answer the question: {query_str}\\n\"\n",
    "    \"Don't give an answer unless it is supported by the context above.\\n\"\n",
    ")\n",
    "\n",
    "qa_template = PromptTemplate(template)"
   ]
  },
  {
   "cell_type": "markdown",
   "metadata": {},
   "source": [
    "### Query 1"
   ]
  },
  {
   "cell_type": "code",
   "execution_count": 3,
   "metadata": {},
   "outputs": [
    {
     "name": "stdout",
     "output_type": "stream",
     "text": [
      "The context does not provide information about who directed the pilot that marked the acting debut of Nicolas Cage.\n"
     ]
    }
   ],
   "source": [
    "question = \"Who directed the pilot that marked the acting debut of Nicolas Cage?\"\n",
    "\n",
    "contexts = retriever.retrieve(question)\n",
    "\n",
    "# you can create text prompt (for completion API)\n",
    "context_list = [n.get_content() for n in contexts]\n",
    "\n",
    "prompt = qa_template.format(context_str=\"\\n\\n\".join(context_list), query_str=question)\n",
    "\n",
    "response = llm.complete(prompt)\n",
    "print(str(response))"
   ]
  },
  {
   "cell_type": "code",
   "execution_count": 4,
   "metadata": {},
   "outputs": [
    {
     "data": {
      "text/plain": [
       "['It blew my mind. I was like, \\'That\\'s what I want to do\\'.\"At age 15, he tried to convince his uncle, Francis Ford Coppola, to give him a screen test, telling him \"I\\'ll show you acting.\" His outburst was met with \"silence in the car\". By this stage of his career, Coppola had already directed Marlon Brando, Al Pacino, Gene Hackman and Robert De Niro. Although early in his career Cage appeared in some of his uncle\\'s films, he changed his name to Nicolas Cage to avoid the appearance of nepotism as Coppola\\'s nephew. His choice of name was inspired by the Marvel Comics superhero Luke Cage and composer John Cage.\\n\\n\\n== Career ==\\n\\n\\n=== 1981–1988: Early work and breakthrough ===\\nCage made his acting debut in the 1981 television pilot The Best of Times, which was never picked up by ABC. His film debut followed in 1982, with a minor role as an unnamed co-worker of Judge Reinhold\\'s character in the coming-of-age film Fast Times at Ridgemont High, having originally auditioned for Reinhold\\'s part.',\n",
       " 'Nicolas Kim Coppola (born January 7, 1964), known by his stage name Nicolas Cage, is an American actor and film producer. He is the recipient of various accolades, including an Academy Award, a Screen Actors Guild Award, and a Golden Globe Award. Known for his versatility as an actor, his participation in various film genres has gained him a cult following.Born into the Coppola family, Cage began his career in films such as Fast Times at Ridgemont High (1982) and Valley Girl (1983), as well various films by his uncle Francis Ford Coppola such as Rumble Fish (1983), The Cotton Club (1984), and Peggy Sue Got Married (1986). He earned critical success for his roles in Moonstruck (1987) and  Raising Arizona (1987), and earned an Academy Award for Best Actor for his performance in the dramatic film Leaving Las Vegas (1995). He received another Academy Award nomination for his performance as twins Charlie and Donald Kaufman in the comedy-drama film Adaptation (2002).',\n",
       " 'His outburst was met with \"silence in the car\". By this stage of his career, Coppola had already directed Marlon Brando, Al Pacino, Gene Hackman and Robert De Niro. Although early in his career Cage appeared in some of his uncle\\'s films, he changed his name to Nicolas Cage to avoid the appearance of nepotism as Coppola\\'s nephew. His choice of name was inspired by the Marvel Comics superhero Luke Cage and composer John Cage.\\n\\n\\n== Career ==\\n\\n\\n=== 1981–1988: Early work and breakthrough ===\\nCage made his acting debut in the 1981 television pilot The Best of Times, which was never picked up by ABC. His film debut followed in 1982, with a minor role as an unnamed co-worker of Judge Reinhold\\'s character in the coming-of-age film Fast Times at Ridgemont High, having originally auditioned for Reinhold\\'s part. His experience on the film was marred by cast members endlessly quoting his uncle\\'s films, which inspired him to change his name.Cage\\'s first starring role came opposite Deborah Foreman in the romantic comedy Valley Girl (1983), in which he played a punk who falls in love with the titular valley girl, a plot loosely inspired by Romeo and Juliet.']"
      ]
     },
     "execution_count": 4,
     "metadata": {},
     "output_type": "execute_result"
    }
   ],
   "source": [
    "context_list"
   ]
  },
  {
   "cell_type": "markdown",
   "metadata": {},
   "source": [
    "### Query 2"
   ]
  },
  {
   "cell_type": "code",
   "execution_count": 21,
   "metadata": {},
   "outputs": [
    {
     "name": "stdout",
     "output_type": "stream",
     "text": [
      "Based on the provided context, both Nicolas Cage and Leonardo DiCaprio had different educational experiences. DiCaprio attended the Los Angeles Center for Enriched Studies for four years and later the Seeds Elementary School before enrolling at John Marshall High School. However, he dropped out of high school and eventually earned a general equivalency diploma. On the other hand, there is no specific information provided about Nicolas Cage's education in the given context.\n"
     ]
    }
   ],
   "source": [
    "question = \"Compare the education received by Nicolas Cage and Leonardo DiCaprio.\"\n",
    "\n",
    "contexts = retriever.retrieve(question)\n",
    "\n",
    "# you can create text prompt (for completion API)\n",
    "context_list = [n.get_content() for n in contexts]\n",
    "\n",
    "prompt = qa_template.format(context_str=\"\\n\\n\".join(context_list), query_str=question)\n",
    "\n",
    "response = llm.complete(prompt)\n",
    "print(str(response))"
   ]
  },
  {
   "cell_type": "code",
   "execution_count": 22,
   "metadata": {},
   "outputs": [
    {
     "data": {
      "text/plain": [
       "['He has described his parents as \"bohemian in every sense of the word\" and as \"the people I trust the most in the world\". DiCaprio has stated that he grew up poor in a neighborhood plagued with prostitution, crime and violence. Attending the Los Angeles Center for Enriched Studies for four years and later the Seeds Elementary School, he later enrolled at the John Marshall High School. DiCaprio disliked public school and wanted to audition for acting jobs instead. He dropped out of high school later, eventually earning a general equivalency diploma.As a child, DiCaprio wanted to become either a marine biologist or an actor. He eventually favored the latter; he liked impersonating characters and imitating people, and enjoyed seeing their reactions to his acting. According to DiCaprio, his interest in performing began at the age of two when he went onto the stage at a performance festival and danced spontaneously to a positive response from the crowd. He was also motivated to learn acting when Farrar\\'s appearance in a television commercial earned him $50,000.',\n",
       " 'Nicolas Kim Coppola (born January 7, 1964), known by his stage name Nicolas Cage, is an American actor and film producer. He is the recipient of various accolades, including an Academy Award, a Screen Actors Guild Award, and a Golden Globe Award. Known for his versatility as an actor, his participation in various film genres has gained him a cult following.Born into the Coppola family, Cage began his career in films such as Fast Times at Ridgemont High (1982) and Valley Girl (1983), as well various films by his uncle Francis Ford Coppola such as Rumble Fish (1983), The Cotton Club (1984), and Peggy Sue Got Married (1986). He earned critical success for his roles in Moonstruck (1987) and  Raising Arizona (1987), and earned an Academy Award for Best Actor for his performance in the dramatic film Leaving Las Vegas (1995). He received another Academy Award nomination for his performance as twins Charlie and Donald Kaufman in the comedy-drama film Adaptation (2002).',\n",
       " \"DiCaprio has stated that he grew up poor in a neighborhood plagued with prostitution, crime and violence. Attending the Los Angeles Center for Enriched Studies for four years and later the Seeds Elementary School, he later enrolled at the John Marshall High School. DiCaprio disliked public school and wanted to audition for acting jobs instead. He dropped out of high school later, eventually earning a general equivalency diploma.As a child, DiCaprio wanted to become either a marine biologist or an actor. He eventually favored the latter; he liked impersonating characters and imitating people, and enjoyed seeing their reactions to his acting. According to DiCaprio, his interest in performing began at the age of two when he went onto the stage at a performance festival and danced spontaneously to a positive response from the crowd. He was also motivated to learn acting when Farrar's appearance in a television commercial earned him $50,000. DiCaprio has said in interviews that his first television appearance was in the children's series Romper Room, and that he was dismissed from the show for being disruptive. The show's host has denied that any children were removed from the show in this way.\"]"
      ]
     },
     "execution_count": 22,
     "metadata": {},
     "output_type": "execute_result"
    }
   ],
   "source": [
    "context_list"
   ]
  },
  {
   "cell_type": "markdown",
   "metadata": {},
   "source": [
    "# Multi-Step Query"
   ]
  },
  {
   "cell_type": "code",
   "execution_count": 23,
   "metadata": {},
   "outputs": [],
   "source": [
    "import logging\n",
    "\n",
    "# Set logging level to WARNING to suppress INFO and DEBUG messages\n",
    "logging.basicConfig(level=logging.WARNING)\n",
    "logging.getLogger(\"httpx\").setLevel(logging.WARNING)\n",
    "\n",
    "from llama_index.indices.query.query_transform.base import (\n",
    "    StepDecomposeQueryTransform,\n",
    ")\n",
    "from llama_index.query_engine.multistep_query_engine import (\n",
    "    MultiStepQueryEngine,\n",
    ")\n",
    "\n",
    "# gpt-3\n",
    "step_decompose_transform_gpt3 = StepDecomposeQueryTransform(\n",
    "    llm=gpt3, verbose=True\n",
    ")\n",
    "index_summary = \"Used to answer questions\"\n",
    "\n",
    "query_engine = index.as_query_engine(service_context=service_context_gpt3)\n",
    "\n",
    "query_engine = MultiStepQueryEngine(\n",
    "    query_engine=query_engine,\n",
    "    query_transform=step_decompose_transform_gpt3,\n",
    "    index_summary=index_summary,\n",
    "    num_steps=2\n",
    ")"
   ]
  },
  {
   "cell_type": "markdown",
   "metadata": {},
   "source": [
    "### Query 1"
   ]
  },
  {
   "cell_type": "code",
   "execution_count": 25,
   "metadata": {},
   "outputs": [
    {
     "name": "stdout",
     "output_type": "stream",
     "text": [
      "\u001b[1;3;33m> Current query: Who directed the pilot that marked the acting debut of Nicolas Cage?\n",
      "\u001b[0m\u001b[1;3;38;5;200m> New query:  Who directed the pilot that marked the acting debut of Nicolas Cage?\n",
      "\u001b[0m\u001b[1;3;33m> Current query: Who directed the pilot that marked the acting debut of Nicolas Cage?\n",
      "\u001b[0m\u001b[1;3;38;5;200m> New query:  Who directed the Best of Times pilot that marked the acting debut of Nicolas Cage?\n",
      "\u001b[0mDon Mischer directed the pilot that marked the acting debut of Nicolas Cage.\n",
      "[(' Who directed the pilot that marked the acting debut of Nicolas Cage?', ' The Best of Times pilot that marked the acting debut of Nicolas Cage was not directed by anyone in the Coppola family. It was directed by Rod Amateau.'), (' Who directed the Best of Times pilot that marked the acting debut of Nicolas Cage?', ' Don Mischer directed the Best of Times pilot that marked the acting debut of Nicolas Cage.')]\n"
     ]
    }
   ],
   "source": [
    "response_gpt3 = query_engine.query(\n",
    "    \"Who directed the pilot that marked the acting debut of Nicolas Cage?\",\n",
    ")\n",
    "print(str(response_gpt3))\n",
    "sub_qa_q1 = response_gpt3.metadata[\"sub_qa\"]\n",
    "tuples = [(t[0], t[1].response) for t in sub_qa_q1]\n",
    "print(tuples)"
   ]
  },
  {
   "cell_type": "code",
   "execution_count": 26,
   "metadata": {},
   "outputs": [
    {
     "data": {
      "text/plain": [
       "[(' Who directed the pilot that marked the acting debut of Nicolas Cage?',\n",
       "  Response(response=' The Best of Times pilot that marked the acting debut of Nicolas Cage was not directed by anyone in the Coppola family. It was directed by Rod Amateau.', source_nodes=[NodeWithScore(node=TextNode(id_='669fa13f-f82f-45d2-a216-f34704b4faf5', embedding=None, metadata={}, excluded_embed_metadata_keys=[], excluded_llm_metadata_keys=[], relationships={<NodeRelationship.SOURCE: '1'>: RelatedNodeInfo(node_id='90329e81-b998-4852-9749-1e0578a1c0f9', node_type=<ObjectType.DOCUMENT: '4'>, metadata={}, hash='bd8d403a56276363f7c740bd2bf0063238d599ff367d16c35a896ace089a6588'), <NodeRelationship.PREVIOUS: '2'>: RelatedNodeInfo(node_id='5f20a4a6-f50d-41fb-9926-cee921f4c96f', node_type=<ObjectType.TEXT: '1'>, metadata={}, hash='7ff2dfa6446c234ed67fc726db050efbb3306e952c8920e12d9bbf6d8836ed79'), <NodeRelationship.NEXT: '3'>: RelatedNodeInfo(node_id='c45eea83-3dce-467f-ba41-0eee51210e0a', node_type=<ObjectType.TEXT: '1'>, metadata={}, hash='3b8df75613a3c41579eb78d7b5338a4916187c9bdbd55efc5c53c87d31abd0ad')}, hash='06377fc11f3f02bbb8f159c545209f9b6231f5c16fa14c5839cd9356d5d02cff', text='It blew my mind. I was like, \\'That\\'s what I want to do\\'.\"At age 15, he tried to convince his uncle, Francis Ford Coppola, to give him a screen test, telling him \"I\\'ll show you acting.\" His outburst was met with \"silence in the car\". By this stage of his career, Coppola had already directed Marlon Brando, Al Pacino, Gene Hackman and Robert De Niro. Although early in his career Cage appeared in some of his uncle\\'s films, he changed his name to Nicolas Cage to avoid the appearance of nepotism as Coppola\\'s nephew. His choice of name was inspired by the Marvel Comics superhero Luke Cage and composer John Cage.\\n\\n\\n== Career ==\\n\\n\\n=== 1981–1988: Early work and breakthrough ===\\nCage made his acting debut in the 1981 television pilot The Best of Times, which was never picked up by ABC. His film debut followed in 1982, with a minor role as an unnamed co-worker of Judge Reinhold\\'s character in the coming-of-age film Fast Times at Ridgemont High, having originally auditioned for Reinhold\\'s part.', start_char_idx=3330, end_char_idx=4326, text_template='{metadata_str}\\n\\n{content}', metadata_template='{key}: {value}', metadata_seperator='\\n'), score=0.8327656080541779), NodeWithScore(node=TextNode(id_='096056f1-b770-4504-ba9d-45ba60f27718', embedding=None, metadata={}, excluded_embed_metadata_keys=[], excluded_llm_metadata_keys=[], relationships={<NodeRelationship.SOURCE: '1'>: RelatedNodeInfo(node_id='90329e81-b998-4852-9749-1e0578a1c0f9', node_type=<ObjectType.DOCUMENT: '4'>, metadata={}, hash='bd8d403a56276363f7c740bd2bf0063238d599ff367d16c35a896ace089a6588'), <NodeRelationship.NEXT: '3'>: RelatedNodeInfo(node_id='05af8e04-8aa8-4a44-b74f-37e8b15f5905', node_type=<ObjectType.TEXT: '1'>, metadata={}, hash='0144e0f063f964c00b07bfe140e2d95582c5a462b2e50e3bc6dc6ebd51fc45c2')}, hash='3cf5fc4e01c79e88435e9b9c837fda9d4b1a4b50bc8f3a29423b1c4a2d8c5e7a', text='Nicolas Kim Coppola (born January 7, 1964), known by his stage name Nicolas Cage, is an American actor and film producer. He is the recipient of various accolades, including an Academy Award, a Screen Actors Guild Award, and a Golden Globe Award. Known for his versatility as an actor, his participation in various film genres has gained him a cult following.Born into the Coppola family, Cage began his career in films such as Fast Times at Ridgemont High (1982) and Valley Girl (1983), as well various films by his uncle Francis Ford Coppola such as Rumble Fish (1983), The Cotton Club (1984), and Peggy Sue Got Married (1986). He earned critical success for his roles in Moonstruck (1987) and  Raising Arizona (1987), and earned an Academy Award for Best Actor for his performance in the dramatic film Leaving Las Vegas (1995). He received another Academy Award nomination for his performance as twins Charlie and Donald Kaufman in the comedy-drama film Adaptation (2002).', start_char_idx=0, end_char_idx=975, text_template='{metadata_str}\\n\\n{content}', metadata_template='{key}: {value}', metadata_seperator='\\n'), score=0.8279893879887947)], metadata={'669fa13f-f82f-45d2-a216-f34704b4faf5': {}, '096056f1-b770-4504-ba9d-45ba60f27718': {}})),\n",
       " (' Who directed the Best of Times pilot that marked the acting debut of Nicolas Cage?',\n",
       "  Response(response=' Don Mischer directed the Best of Times pilot that marked the acting debut of Nicolas Cage.', source_nodes=[NodeWithScore(node=TextNode(id_='cfef3e14-7f7f-491a-8168-e5ca6299d6e2', embedding=None, metadata={}, excluded_embed_metadata_keys=[], excluded_llm_metadata_keys=[], relationships={<NodeRelationship.SOURCE: '1'>: RelatedNodeInfo(node_id='6c86dbde-efd6-4117-9258-f64c73a62534', node_type=<ObjectType.DOCUMENT: '4'>, metadata={}, hash='84a244582f6571b967f09245a321158101fb6f7cb4f8dab32f017ce4bdbf01d2'), <NodeRelationship.PREVIOUS: '2'>: RelatedNodeInfo(node_id='49622e0e-64e5-45eb-9b8c-c85c768172d8', node_type=<ObjectType.TEXT: '1'>, metadata={}, hash='a1b7d81cf1c91e865f6e64fa6470f93104aa96ecee8e5cb56c293bdb3f67d8f6'), <NodeRelationship.NEXT: '3'>: RelatedNodeInfo(node_id='376e3853-d8d6-4696-80ee-0a5de6046ce8', node_type=<ObjectType.TEXT: '1'>, metadata={}, hash='698dac9f11606cbb260290f9b8ba1edb05097a3ede30a8f23ac01ebcb497ef56')}, hash='84a244582f6571b967f09245a321158101fb6f7cb4f8dab32f017ce4bdbf01d2', text=\"The Best of Times is a 1981 television pilot episode directed by Don Mischer that was never picked up as a series. It marked the acting debuts of Nicolas Cage and Crispin Glover.\\n\\n\\n== Plot ==\\nA variety show about life as a teenager as seen through the eyes of eight actual teenagers (Crispin, Julie, Jill, Nicolas, Kevin, Lisa, David and Janet) who perform skits, songs and dances that relate their views between childhood and adulthood.\\n\\n\\n== Cast ==\\nCrispin Glover as Crispin\\nJill Schoelen as Jill\\nNicolas Cage as Nicolas (credited as Nicolas Coppola)\\nJulie Piekarski as Julie\\nKevin Cortes as Kevin\\nLisa Hope Ross as Lisa\\nDavid Rambo as David\\nJanet Robin as Janet\\nJackie Mason as Mr. O'Reilly\\nBetty Glover as Crispin's Mother\\n\\n\\n== External links ==\\nThe Best of Times at IMDb\", start_char_idx=0, end_char_idx=775, text_template='{metadata_str}\\n\\n{content}', metadata_template='{key}: {value}', metadata_seperator='\\n'), score=0.8675111072720709), NodeWithScore(node=TextNode(id_='c45eea83-3dce-467f-ba41-0eee51210e0a', embedding=None, metadata={}, excluded_embed_metadata_keys=[], excluded_llm_metadata_keys=[], relationships={<NodeRelationship.SOURCE: '1'>: RelatedNodeInfo(node_id='90329e81-b998-4852-9749-1e0578a1c0f9', node_type=<ObjectType.DOCUMENT: '4'>, metadata={}, hash='bd8d403a56276363f7c740bd2bf0063238d599ff367d16c35a896ace089a6588'), <NodeRelationship.PREVIOUS: '2'>: RelatedNodeInfo(node_id='669fa13f-f82f-45d2-a216-f34704b4faf5', node_type=<ObjectType.TEXT: '1'>, metadata={}, hash='06377fc11f3f02bbb8f159c545209f9b6231f5c16fa14c5839cd9356d5d02cff'), <NodeRelationship.NEXT: '3'>: RelatedNodeInfo(node_id='bb679bc1-3d84-4cec-93f1-7d89cefc9a8d', node_type=<ObjectType.TEXT: '1'>, metadata={}, hash='9f4f8269ee0bf96c60de9cdc4b480ab75cff194ea53c683a95a259eaf948255b')}, hash='3b8df75613a3c41579eb78d7b5338a4916187c9bdbd55efc5c53c87d31abd0ad', text='His outburst was met with \"silence in the car\". By this stage of his career, Coppola had already directed Marlon Brando, Al Pacino, Gene Hackman and Robert De Niro. Although early in his career Cage appeared in some of his uncle\\'s films, he changed his name to Nicolas Cage to avoid the appearance of nepotism as Coppola\\'s nephew. His choice of name was inspired by the Marvel Comics superhero Luke Cage and composer John Cage.\\n\\n\\n== Career ==\\n\\n\\n=== 1981–1988: Early work and breakthrough ===\\nCage made his acting debut in the 1981 television pilot The Best of Times, which was never picked up by ABC. His film debut followed in 1982, with a minor role as an unnamed co-worker of Judge Reinhold\\'s character in the coming-of-age film Fast Times at Ridgemont High, having originally auditioned for Reinhold\\'s part. His experience on the film was marred by cast members endlessly quoting his uncle\\'s films, which inspired him to change his name.Cage\\'s first starring role came opposite Deborah Foreman in the romantic comedy Valley Girl (1983), in which he played a punk who falls in love with the titular valley girl, a plot loosely inspired by Romeo and Juliet.', start_char_idx=3515, end_char_idx=4674, text_template='{metadata_str}\\n\\n{content}', metadata_template='{key}: {value}', metadata_seperator='\\n'), score=0.8232731616148251)], metadata={'cfef3e14-7f7f-491a-8168-e5ca6299d6e2': {}, 'c45eea83-3dce-467f-ba41-0eee51210e0a': {}}))]"
      ]
     },
     "execution_count": 26,
     "metadata": {},
     "output_type": "execute_result"
    }
   ],
   "source": [
    "sub_qa_q1"
   ]
  },
  {
   "cell_type": "markdown",
   "metadata": {},
   "source": [
    "### Query 2"
   ]
  },
  {
   "cell_type": "code",
   "execution_count": 10,
   "metadata": {},
   "outputs": [
    {
     "name": "stdout",
     "output_type": "stream",
     "text": [
      "\u001b[1;3;33m> Current query: Compare the education received by Nicolas Cage and Leonardo DiCaprio.\n",
      "\u001b[0m\u001b[1;3;38;5;200m> New query:  What educational institutions did Nicolas Cage and Leonardo DiCaprio attend?\n",
      "\u001b[0m\u001b[1;3;33m> Current query: Compare the education received by Nicolas Cage and Leonardo DiCaprio.\n",
      "\u001b[0m\u001b[1;3;38;5;200m> New query:  What educational institutions did Nicolas Cage attend?\n",
      "\u001b[0m\u001b[1;3;33m> Current query: Compare the education received by Nicolas Cage and Leonardo DiCaprio.\n",
      "\u001b[0m\u001b[1;3;38;5;200m> New query:  What type of education did Nicolas Cage and Leonardo DiCaprio receive?\n",
      "\u001b[0mNicolas Cage received education in the field of theater, film, and television at UCLA School of Theater, Film and Television. On the other hand, Leonardo DiCaprio attended the Los Angeles Center for Enriched Studies, Seeds Elementary School, and John Marshall High School. However, DiCaprio dropped out of high school and later earned a general equivalency diploma.\n",
      "[(' What educational institutions did Nicolas Cage and Leonardo DiCaprio attend?', ' Leonardo DiCaprio attended the Los Angeles Center for Enriched Studies for four years and later the Seeds Elementary School, and then John Marshall High School. Nicolas Cage is not mentioned in the context information.'), (' What educational institutions did Nicolas Cage attend?', ' Nicolas Cage attended UCLA School of Theater, Film and Television.'), (' What type of education did Nicolas Cage and Leonardo DiCaprio receive?', ' Nicolas Cage attended Fast Times at Ridgemont High (1982) and Valley Girl (1983), as well various films by his uncle Francis Ford Coppola such as Rumble Fish (1983), The Cotton Club (1984), and Peggy Sue Got Married (1986). Leonardo DiCaprio attended the Los Angeles Center for Enriched Studies for four years and later the Seeds Elementary School, he later enrolled at the John Marshall High School. DiCaprio dropped out of high school later, eventually earning a general equivalency diploma.')]\n"
     ]
    }
   ],
   "source": [
    "response_gpt3 = query_engine.query(\n",
    "    \"Compare the education received by Nicolas Cage and Leonardo DiCaprio.\",\n",
    ")\n",
    "print(str(response_gpt3))\n",
    "sub_qa = response_gpt3.metadata[\"sub_qa\"]\n",
    "tuples = [(t[0], t[1].response) for t in sub_qa]\n",
    "print(tuples)"
   ]
  },
  {
   "cell_type": "code",
   "execution_count": 11,
   "metadata": {},
   "outputs": [
    {
     "data": {
      "text/plain": [
       "(' What educational institutions did Nicolas Cage attend?',\n",
       " Response(response=' Nicolas Cage attended UCLA School of Theater, Film and Television.', source_nodes=[NodeWithScore(node=TextNode(id_='347ca8de-0eb4-4215-9f05-32671276ce99', embedding=None, metadata={}, excluded_embed_metadata_keys=[], excluded_llm_metadata_keys=[], relationships={<NodeRelationship.SOURCE: '1'>: RelatedNodeInfo(node_id='a9d91101-72a6-4a53-bb67-80fbcf63cd6f', node_type=<ObjectType.DOCUMENT: '4'>, metadata={}, hash='bd8d403a56276363f7c740bd2bf0063238d599ff367d16c35a896ace089a6588'), <NodeRelationship.NEXT: '3'>: RelatedNodeInfo(node_id='f4a7a9b7-cff1-4090-befb-77415c87c448', node_type=<ObjectType.TEXT: '1'>, metadata={}, hash='0144e0f063f964c00b07bfe140e2d95582c5a462b2e50e3bc6dc6ebd51fc45c2')}, hash='3cf5fc4e01c79e88435e9b9c837fda9d4b1a4b50bc8f3a29423b1c4a2d8c5e7a', text='Nicolas Kim Coppola (born January 7, 1964), known by his stage name Nicolas Cage, is an American actor and film producer. He is the recipient of various accolades, including an Academy Award, a Screen Actors Guild Award, and a Golden Globe Award. Known for his versatility as an actor, his participation in various film genres has gained him a cult following.Born into the Coppola family, Cage began his career in films such as Fast Times at Ridgemont High (1982) and Valley Girl (1983), as well various films by his uncle Francis Ford Coppola such as Rumble Fish (1983), The Cotton Club (1984), and Peggy Sue Got Married (1986). He earned critical success for his roles in Moonstruck (1987) and  Raising Arizona (1987), and earned an Academy Award for Best Actor for his performance in the dramatic film Leaving Las Vegas (1995). He received another Academy Award nomination for his performance as twins Charlie and Donald Kaufman in the comedy-drama film Adaptation (2002).', start_char_idx=0, end_char_idx=975, text_template='{metadata_str}\\n\\n{content}', metadata_template='{key}: {value}', metadata_seperator='\\n'), score=0.8251487835811767), NodeWithScore(node=TextNode(id_='161c6223-3558-40a8-bfab-9f304fd169da', embedding=None, metadata={}, excluded_embed_metadata_keys=[], excluded_llm_metadata_keys=[], relationships={<NodeRelationship.SOURCE: '1'>: RelatedNodeInfo(node_id='a9d91101-72a6-4a53-bb67-80fbcf63cd6f', node_type=<ObjectType.DOCUMENT: '4'>, metadata={}, hash='bd8d403a56276363f7c740bd2bf0063238d599ff367d16c35a896ace089a6588'), <NodeRelationship.PREVIOUS: '2'>: RelatedNodeInfo(node_id='bd54fa34-968f-4e1b-820d-e9c434359f4a', node_type=<ObjectType.TEXT: '1'>, metadata={}, hash='4c0887661554366c7ad3c5c2d04d99898e31081f4b7d5a690ffa60b76d5a791a'), <NodeRelationship.NEXT: '3'>: RelatedNodeInfo(node_id='57a5d4f8-f191-4abf-9adb-905e1e85a65a', node_type=<ObjectType.TEXT: '1'>, metadata={}, hash='7ff2dfa6446c234ed67fc726db050efbb3306e952c8920e12d9bbf6d8836ed79')}, hash='34607fa7fcaff127a7d22d4fc1c7a5a24b64fd072ad320ae5c68429bd5b5215b', text='He aspired to act from an early age and also attended UCLA School of Theater, Film and Television. His first non-cinematic acting experience was in a school production of Golden Boy. He said he started acting because he \"wanted to be James Dean. I saw him in Rebel Without a Cause, East of Eden. Nothing affected me—no rock song, no classical music—the way Dean affected me in Eden. It blew my mind. I was like, \\'That\\'s what I want to do\\'.\"At age 15, he tried to convince his uncle, Francis Ford Coppola, to give him a screen test, telling him \"I\\'ll show you acting.\" His outburst was met with \"silence in the car\". By this stage of his career, Coppola had already directed Marlon Brando, Al Pacino, Gene Hackman and Robert De Niro. Although early in his career Cage appeared in some of his uncle\\'s films, he changed his name to Nicolas Cage to avoid the appearance of nepotism as Coppola\\'s nephew. His choice of name was inspired by the Marvel Comics superhero Luke Cage and composer John Cage.\\n\\n\\n== Career ==', start_char_idx=2947, end_char_idx=3957, text_template='{metadata_str}\\n\\n{content}', metadata_template='{key}: {value}', metadata_seperator='\\n'), score=0.818231078207671)], metadata={'347ca8de-0eb4-4215-9f05-32671276ce99': {}, '161c6223-3558-40a8-bfab-9f304fd169da': {}}))"
      ]
     },
     "execution_count": 11,
     "metadata": {},
     "output_type": "execute_result"
    }
   ],
   "source": [
    "sub_qa[1]"
   ]
  },
  {
   "cell_type": "markdown",
   "metadata": {},
   "source": [
    "# Sub Question Query Engine"
   ]
  },
  {
   "cell_type": "code",
   "execution_count": 12,
   "metadata": {},
   "outputs": [
    {
     "name": "stdout",
     "output_type": "stream",
     "text": [
      "**********\n",
      "Trace: index_construction\n",
      "    |_node_parsing ->  0.103631 seconds\n",
      "      |_chunking ->  0.045342 seconds\n",
      "      |_chunking ->  0.000245 seconds\n",
      "      |_chunking ->  0.044692 seconds\n",
      "    |_embedding ->  2.139989 seconds\n",
      "    |_embedding ->  1.646099 seconds\n",
      "    |_embedding ->  1.841294 seconds\n",
      "    |_embedding ->  0.761552 seconds\n",
      "**********\n"
     ]
    }
   ],
   "source": [
    "from llama_index import VectorStoreIndex, SimpleDirectoryReader\n",
    "from llama_index.tools import QueryEngineTool, ToolMetadata\n",
    "from llama_index.query_engine import SubQuestionQueryEngine\n",
    "from llama_index.callbacks import CallbackManager, LlamaDebugHandler\n",
    "from llama_index import ServiceContext\n",
    "\n",
    "llama_debug = LlamaDebugHandler(print_trace_on_end=True)\n",
    "callback_manager = CallbackManager([llama_debug])\n",
    "service_context = ServiceContext.from_defaults(\n",
    "    callback_manager=callback_manager,chunk_size=256, chunk_overlap=0\n",
    ")\n",
    "# build index and query engine\n",
    "vector_query_engine = VectorStoreIndex.from_documents(\n",
    "    documents, use_async=False, service_context=service_context\n",
    ").as_query_engine(similarity_top_k=5)\n",
    "# setup base query engine as tool\n",
    "query_engine_tools = [\n",
    "    QueryEngineTool(\n",
    "        query_engine=vector_query_engine,\n",
    "        metadata=ToolMetadata(\n",
    "            name=\"leo and nic\",\n",
    "            description=\"Questions about actors\",\n",
    "        ),\n",
    "    ),\n",
    "]\n",
    "\n",
    "query_engine = SubQuestionQueryEngine.from_defaults(\n",
    "    query_engine_tools=query_engine_tools,\n",
    "    service_context=service_context,\n",
    "    use_async= False\n",
    ")"
   ]
  },
  {
   "cell_type": "markdown",
   "metadata": {},
   "source": [
    "### Query 1"
   ]
  },
  {
   "cell_type": "code",
   "execution_count": 13,
   "metadata": {},
   "outputs": [
    {
     "name": "stdout",
     "output_type": "stream",
     "text": [
      "Generated 1 sub questions.\n",
      "\u001b[1;3;38;2;237;90;200m[leo and nic] Q: Who directed the pilot that marked the acting debut of Nicolas Cage?\n",
      "\u001b[0m\u001b[1;3;38;2;237;90;200m[leo and nic] A: The pilot that marked the acting debut of Nicolas Cage was directed by an unknown director.\n",
      "\u001b[0m**********\n",
      "Trace: query\n",
      "    |_query ->  3.560915 seconds\n",
      "      |_llm ->  1.48143 seconds\n",
      "      |_sub_question ->  1.186522 seconds\n",
      "        |_query ->  1.186015 seconds\n",
      "          |_retrieve ->  0.275159 seconds\n",
      "            |_embedding ->  0.241721 seconds\n",
      "          |_synthesize ->  0.910596 seconds\n",
      "            |_templating ->  2e-05 seconds\n",
      "            |_llm ->  0.903577 seconds\n",
      "      |_synthesize ->  0.891443 seconds\n",
      "        |_templating ->  2.7e-05 seconds\n",
      "        |_llm ->  0.887538 seconds\n",
      "**********\n",
      "The director of the pilot that marked the acting debut of Nicolas Cage is unknown.\n",
      "Sub Question 0: Who directed the pilot that marked the acting debut of Nicolas Cage?\n",
      "Answer: The pilot that marked the acting debut of Nicolas Cage was directed by an unknown director.\n",
      "====================================\n"
     ]
    }
   ],
   "source": [
    "response = query_engine.query(\n",
    "    \"Who directed the pilot that marked the acting debut of Nicolas Cage?\"\n",
    ")\n",
    "\n",
    "print(response)\n",
    "\n",
    "# iterate through sub_question items captured in SUB_QUESTION event\n",
    "from llama_index.callbacks.schema import CBEventType, EventPayload\n",
    "\n",
    "for i, (start_event, end_event) in enumerate(\n",
    "    llama_debug.get_event_pairs(CBEventType.SUB_QUESTION)\n",
    "):\n",
    "    qa_pair = end_event.payload[EventPayload.SUB_QUESTION]\n",
    "    print(\"Sub Question \" + str(i) + \": \" + qa_pair.sub_q.sub_question.strip())\n",
    "    print(\"Answer: \" + qa_pair.answer.strip())\n",
    "    print(\"====================================\")"
   ]
  },
  {
   "cell_type": "markdown",
   "metadata": {},
   "source": [
    "### Query 2"
   ]
  },
  {
   "cell_type": "code",
   "execution_count": 14,
   "metadata": {},
   "outputs": [
    {
     "name": "stdout",
     "output_type": "stream",
     "text": [
      "Generated 2 sub questions.\n",
      "\u001b[1;3;38;2;237;90;200m[leo and nic] Q: What is the education of Nicolas Cage?\n",
      "\u001b[0m\u001b[1;3;38;2;237;90;200m[leo and nic] A: Nicolas Cage attended UCLA School of Theater, Film and Television.\n",
      "\u001b[0m\u001b[1;3;38;2;90;149;237m[leo and nic] Q: What is the education of Leonardo DiCaprio?\n",
      "\u001b[0m\u001b[1;3;38;2;90;149;237m[leo and nic] A: Leonardo DiCaprio attended the Los Angeles Center for Enriched Studies for four years and later the Seeds Elementary School. He later enrolled at the John Marshall High School but dropped out to pursue acting. He eventually earned a general equivalency diploma.\n",
      "\u001b[0m**********\n",
      "Trace: query\n",
      "    |_query ->  6.600185 seconds\n",
      "      |_llm ->  1.713314 seconds\n",
      "      |_sub_question ->  1.408598 seconds\n",
      "        |_query ->  1.408146 seconds\n",
      "          |_retrieve ->  0.414056 seconds\n",
      "            |_embedding ->  0.382935 seconds\n",
      "          |_synthesize ->  0.993901 seconds\n",
      "            |_templating ->  1.7e-05 seconds\n",
      "            |_llm ->  0.987334 seconds\n",
      "      |_sub_question ->  1.800564 seconds\n",
      "        |_query ->  1.79982 seconds\n",
      "          |_retrieve ->  0.342561 seconds\n",
      "            |_embedding ->  0.326615 seconds\n",
      "          |_synthesize ->  1.457079 seconds\n",
      "            |_templating ->  2.5e-05 seconds\n",
      "            |_llm ->  1.453263 seconds\n",
      "      |_synthesize ->  1.676812 seconds\n",
      "        |_templating ->  1.7e-05 seconds\n",
      "        |_llm ->  1.674988 seconds\n",
      "**********\n",
      "Nicolas Cage attended UCLA School of Theater, Film and Television, while Leonardo DiCaprio attended the Los Angeles Center for Enriched Studies, Seeds Elementary School, and later John Marshall High School before dropping out to pursue acting. DiCaprio eventually earned a general equivalency diploma.\n"
     ]
    }
   ],
   "source": [
    "llama_debug = LlamaDebugHandler(print_trace_on_end=True)\n",
    "callback_manager = CallbackManager([llama_debug])\n",
    "\n",
    "response = query_engine.query(\n",
    "    \"Compare the education received by Nicolas Cage and Leonardo DiCaprio.\"\n",
    ")\n",
    "\n",
    "print(response)\n",
    "\n",
    "# iterate through sub_question items captured in SUB_QUESTION event\n",
    "from llama_index.callbacks.schema import CBEventType, EventPayload\n",
    "\n",
    "for i, (start_event, end_event) in enumerate(\n",
    "    llama_debug.get_event_pairs(CBEventType.SUB_QUESTION)\n",
    "):\n",
    "    qa_pair = end_event.payload[EventPayload.SUB_QUESTION]\n",
    "    print(\"Sub Question \" + str(i) + \": \" + qa_pair.sub_q.sub_question.strip())\n",
    "    print(\"Answer: \" + qa_pair.answer.strip())\n",
    "    print(\"====================================\")"
   ]
  },
  {
   "cell_type": "markdown",
   "metadata": {},
   "source": [
    "# HyDE Query Transform"
   ]
  },
  {
   "cell_type": "code",
   "execution_count": 15,
   "metadata": {},
   "outputs": [],
   "source": [
    "from llama_index.indices.query.query_transform import HyDEQueryTransform\n",
    "from llama_index.query_engine.transform_query_engine import (\n",
    "    TransformQueryEngine,\n",
    ")\n",
    "\n",
    "index = VectorStoreIndex.from_documents(documents, service_context=service_context_gpt3)\n",
    "query_engine = index.as_query_engine(similarity_top_k=5)\n",
    "\n",
    "hyde = HyDEQueryTransform(include_original=True)\n",
    "hyde_query_engine = TransformQueryEngine(query_engine, hyde)"
   ]
  },
  {
   "cell_type": "markdown",
   "metadata": {},
   "source": [
    "### Query 1"
   ]
  },
  {
   "cell_type": "code",
   "execution_count": 16,
   "metadata": {},
   "outputs": [
    {
     "name": "stdout",
     "output_type": "stream",
     "text": [
      " The Best of Times, the television pilot that marked the acting debut of Nicolas Cage, was not picked up by ABC.\n"
     ]
    }
   ],
   "source": [
    "response = hyde_query_engine.query(\"Who directed the pilot that marked the acting debut of Nicolas Cage?\")\n",
    "print(response)"
   ]
  },
  {
   "cell_type": "markdown",
   "metadata": {},
   "source": [
    "In this example, HyDE improves output quality significantly, by hallucinating.\n",
    "Hypothetical Document Embeddings (HyDE) query transform.\n",
    "\n",
    "It uses an LLM to generate hypothetical answer(s) to a given query,\n",
    "and use the resulting documents as embedding strings.\n",
    "\n",
    "As described in [Precise Zero-Shot Dense Retrieval without Relevance Labels]\n",
    "(https://arxiv.org/abs/2212.10496)\n"
   ]
  },
  {
   "cell_type": "code",
   "execution_count": 17,
   "metadata": {},
   "outputs": [
    {
     "data": {
      "text/plain": [
       "'The pilot that marked the acting debut of Nicolas Cage was directed by his uncle, Francis Ford Coppola. This significant moment in Cage\\'s career occurred in 1981 when he was cast in the television movie \"Best of Times.\" Coppola, a renowned filmmaker himself, took on the role of director for this project, showcasing his support and belief in his nephew\\'s talent. The pilot served as a stepping stone for Cage, propelling him into the world of acting and setting the stage for his future success in the industry. With Coppola\\'s guidance, Cage was able to make a memorable first impression, laying the foundation for his illustrious career as one of Hollywood\\'s most versatile and acclaimed actors.'"
      ]
     },
     "execution_count": 17,
     "metadata": {},
     "output_type": "execute_result"
    }
   ],
   "source": [
    "query_bundle = hyde(\"Who directed the pilot that marked the acting debut of Nicolas Cage?\")\n",
    "hyde_doc = query_bundle.embedding_strs[0]\n",
    "hyde_doc"
   ]
  },
  {
   "cell_type": "markdown",
   "metadata": {},
   "source": [
    "### Query 2"
   ]
  },
  {
   "cell_type": "code",
   "execution_count": 18,
   "metadata": {},
   "outputs": [
    {
     "name": "stdout",
     "output_type": "stream",
     "text": [
      "\n",
      "Nicolas Cage attended UCLA School of Theater, Film and Television and had his first non-cinematic acting experience in a school production of Golden Boy. Leonardo DiCaprio attended the Los Angeles Center for Enriched Studies for four years and later the Seeds Elementary School, and later enrolled at the John Marshall High School. DiCaprio disliked public school and wanted to audition for acting jobs instead. He dropped out of high school later, eventually earning a general equivalency diploma.\n"
     ]
    }
   ],
   "source": [
    "response = hyde_query_engine.query(\"Compare the education received by Nicolas Cage and Leonardo DiCaprio.\")\n",
    "print(response)"
   ]
  },
  {
   "cell_type": "code",
   "execution_count": 19,
   "metadata": {},
   "outputs": [
    {
     "data": {
      "text/plain": [
       "\"Nicolas Cage and Leonardo DiCaprio, two renowned actors in Hollywood, have both achieved great success in their careers. However, when it comes to their education, they have taken different paths. \\n\\nNicolas Cage, born Nicolas Kim Coppola, comes from a family deeply rooted in the entertainment industry. Despite his family's background, Cage decided to pursue a formal education in acting. He attended the prestigious Beverly Hills High School, known for its strong performing arts program. During his time there, Cage honed his acting skills and participated in various school productions. After graduating, he continued his education at the American Conservatory Theater in San Francisco, where he further refined his craft. Cage's dedication to his education undoubtedly played a significant role in shaping his acting abilities and contributed to his successful career.\\n\\nOn the other hand, Leonardo DiCaprio's educational journey took a different route. Born in Los Angeles, DiCaprio grew up in a modest family. He attended Los Angeles Center for Enriched Studies, a public magnet school known for its rigorous academic curriculum. Although DiCaprio showed an early interest in acting, he did not receive formal training during his high school years. Instead, he focused on his studies and graduated with honors. DiCaprio's passion for acting led him to pursue a career in the entertainment industry without a formal education in the field.\\n\\nDespite their differing educational backgrounds, both Cage and DiCaprio have achieved immense success in their acting careers. Cage's formal training has allowed him to showcase his versatility in various roles, earning him critical acclaim and an Academy Award for Best Actor. DiCaprio, on the other hand, has relied on his natural talent and dedication to his craft to become one of the most respected actors of his generation, also winning an Academy Award for Best Actor.\\n\\nIn conclusion, while Nicolas Cage pursued a formal education in acting, attending renowned institutions, Leonardo DiCaprio relied on his natural talent and dedication to his craft. Both actors have proven that success in the entertainment industry can be achieved through different educational paths, showcasing the importance of passion and hard work in pursuing one's dreams.\""
      ]
     },
     "execution_count": 19,
     "metadata": {},
     "output_type": "execute_result"
    }
   ],
   "source": [
    "query_bundle = hyde(\"Compare the education received by Nicolas Cage and Leonardo DiCaprio.\")\n",
    "hyde_doc = query_bundle.embedding_strs[0]\n",
    "hyde_doc"
   ]
  }
 ],
 "metadata": {
  "kernelspec": {
   "display_name": "llama-test",
   "language": "python",
   "name": "python3"
  },
  "language_info": {
   "codemirror_mode": {
    "name": "ipython",
    "version": 3
   },
   "file_extension": ".py",
   "mimetype": "text/x-python",
   "name": "python",
   "nbconvert_exporter": "python",
   "pygments_lexer": "ipython3",
   "version": "3.10.13"
  }
 },
 "nbformat": 4,
 "nbformat_minor": 2
}
