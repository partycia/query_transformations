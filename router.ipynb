{
 "cells": [
  {
   "cell_type": "code",
   "execution_count": 6,
   "metadata": {},
   "outputs": [],
   "source": [
    "import logging\n",
    "import sys\n",
    "\n",
    "import nest_asyncio\n",
    "from llama_index import (\n",
    "    VectorStoreIndex,\n",
    "    ServiceContext,\n",
    "    download_loader,\n",
    ")\n",
    "from llama_index.callbacks import CallbackManager, LlamaDebugHandler\n",
    "from llama_index.embeddings import OpenAIEmbedding\n",
    "from llama_index.embeddings.openai import OpenAIEmbeddingModelType\n",
    "from llama_index.indices.query.query_transform.base import StepDecomposeQueryTransform\n",
    "from llama_index.llms import OpenAI\n",
    "from llama_index.query_engine import SubQuestionQueryEngine, RouterQueryEngine, MultiStepQueryEngine\n",
    "from llama_index.selectors.pydantic_selectors import PydanticSingleSelector\n",
    "from llama_index.tools import QueryEngineTool, ToolMetadata\n",
    "\n",
    "# Set the logging level for openai to ERROR to suppress informational messages\n",
    "logging.getLogger('openai').setLevel(logging.ERROR)\n",
    "logging.getLogger('requests').setLevel(logging.ERROR)\n",
    "logging.getLogger('urllib3').setLevel(logging.ERROR)\n",
    "logging.basicConfig(level=logging.WARNING)\n",
    "logging.getLogger(\"httpx\").setLevel(logging.WARNING)\n",
    "\n",
    "nest_asyncio.apply()\n",
    "\n",
    "logging.basicConfig(stream=sys.stdout, level=logging.INFO)\n",
    "logging.getLogger().handlers = []\n",
    "logging.getLogger().addHandler(logging.StreamHandler(stream=sys.stdout))\n"
   ]
  },
  {
   "cell_type": "code",
   "execution_count": 7,
   "metadata": {},
   "outputs": [
    {
     "name": "stdout",
     "output_type": "stream",
     "text": [
      "**********\n",
      "Trace: index_construction\n",
      "    |_node_parsing ->  0.088957 seconds\n",
      "      |_chunking ->  0.029358 seconds\n",
      "      |_chunking ->  0.000334 seconds\n",
      "      |_chunking ->  0.038476 seconds\n",
      "    |_embedding ->  1.885996 seconds\n",
      "    |_embedding ->  3.587934 seconds\n",
      "    |_embedding ->  1.537834 seconds\n",
      "    |_embedding ->  0.648983 seconds\n",
      "**********\n"
     ]
    }
   ],
   "source": [
    "# load documents\n",
    "WikipediaReader = download_loader(\"WikipediaReader\")\n",
    "\n",
    "loader = WikipediaReader()\n",
    "pages = ['Nicolas_Cage', 'The_Best_of_Times_(1981_film)', 'Leonardo DiCaprio']\n",
    "documents = loader.load_data(pages=pages, auto_suggest=False, redirect = False)\n",
    "\n",
    "# initialize service context (set chunk size)\n",
    "gpt3 = OpenAI(temperature=0, model=\"text-davinci-003\")\n",
    "\n",
    "embed_model = OpenAIEmbedding(model= OpenAIEmbeddingModelType.TEXT_EMBED_ADA_002)\n",
    "\n",
    "service_context_gpt3 = ServiceContext.from_defaults(llm=gpt3, chunk_size = 256, chunk_overlap=0, embed_model=embed_model)\n",
    "\n",
    "\n",
    "# simple retriever\n",
    "simple_index = VectorStoreIndex.from_documents(documents, service_context=service_context_gpt3)\n",
    "simple_query_engine = simple_index.as_query_engine()\n",
    "\n",
    "\n",
    "simple_tool = QueryEngineTool.from_defaults(\n",
    "    query_engine=simple_query_engine,\n",
    "    description=\"Useful when the query is relatively straightforward and can be answered with direct information retrieval, without the need for complex transformations.\",\n",
    ")\n",
    "\n",
    "# multi-step query\n",
    "step_decompose_transform_gpt3 = StepDecomposeQueryTransform(\n",
    "    llm=gpt3, verbose=True\n",
    ")\n",
    "index_summary = \"Breaks down the initial query\"\n",
    "\n",
    "multi_step_query_engine = simple_index.as_query_engine(service_context=service_context_gpt3)\n",
    "\n",
    "multi_step_query_engine = MultiStepQueryEngine(\n",
    "    query_engine=multi_step_query_engine,\n",
    "    query_transform=step_decompose_transform_gpt3,\n",
    "    index_summary=index_summary,\n",
    ")\n",
    "\n",
    "multi_step_tool = QueryEngineTool.from_defaults(\n",
    "    query_engine=multi_step_query_engine,\n",
    "    description=\"Useful when complex or multifaceted information needs are present, and a single query isn't sufficient to fully understand or retrieve the necessary information. This approach is especially beneficial in environments where the context evolves with each interaction or where the information is layered and requires iterative exploration.\",\n",
    ")\n",
    "\n",
    "# sub-question query engine\n",
    "llama_debug = LlamaDebugHandler(print_trace_on_end=True)\n",
    "callback_manager = CallbackManager([llama_debug])\n",
    "\n",
    "service_context_sub_question = ServiceContext.from_defaults(\n",
    "    callback_manager=callback_manager,chunk_size=256, chunk_overlap=0\n",
    ")\n",
    "\n",
    "vector_query_engine_sub_question = VectorStoreIndex.from_documents(\n",
    "    documents, use_async=False, service_context=service_context_sub_question\n",
    ").as_query_engine(similarity_top_k=5)\n",
    "\n",
    "query_engine_tools = [\n",
    "    QueryEngineTool(\n",
    "        query_engine=vector_query_engine_sub_question,\n",
    "        metadata=ToolMetadata(\n",
    "            name=\"Sub-question query engine\",\n",
    "            description=\"Questions about actors\",\n",
    "        ),\n",
    "    ),\n",
    "]\n",
    "\n",
    "query_engine_sub_question = SubQuestionQueryEngine.from_defaults(\n",
    "    query_engine_tools=query_engine_tools,\n",
    "    service_context=service_context_sub_question,\n",
    "    use_async= False\n",
    ")\n",
    "\n",
    "sub_question_tool = QueryEngineTool.from_defaults(\n",
    "    query_engine=query_engine_sub_question,\n",
    "    description=\"Useful when complex questions can be effectively broken down into simpler sub-questions, each of which can be answered independently. For example if you have to compare two ore more things.\",\n",
    ")\n",
    "\n",
    "\n",
    "query_engine = RouterQueryEngine(\n",
    "    selector=PydanticSingleSelector.from_defaults(),\n",
    "    query_engine_tools=[\n",
    "        simple_tool,\n",
    "        multi_step_tool,\n",
    "        sub_question_tool,\n",
    "    ],\n",
    ")"
   ]
  },
  {
   "cell_type": "code",
   "execution_count": 11,
   "metadata": {},
   "outputs": [
    {
     "name": "stdout",
     "output_type": "stream",
     "text": [
      "Selecting query engine 0: The query is relatively straightforward and can be answered with direct information retrieval..\n",
      " Nicolas Cage is an American actor and film producer.\n"
     ]
    }
   ],
   "source": [
    "response_1 = query_engine.query(\"What is Nicolas Cage's profession?\")\n",
    "print(str(response_1))"
   ]
  },
  {
   "cell_type": "code",
   "execution_count": 23,
   "metadata": {},
   "outputs": [
    {
     "data": {
      "text/plain": [
       "'The query is relatively straightforward and can be answered with direct information retrieval.'"
      ]
     },
     "execution_count": 23,
     "metadata": {},
     "output_type": "execute_result"
    }
   ],
   "source": [
    "response_1.metadata[\"selector_result\"].selections[0].reason"
   ]
  },
  {
   "cell_type": "code",
   "execution_count": 12,
   "metadata": {},
   "outputs": [
    {
     "name": "stdout",
     "output_type": "stream",
     "text": [
      "Selecting query engine 2: The question requires comparing the education received by two individuals, which can be effectively broken down into simpler sub-questions..\n",
      "Generated 2 sub questions.\n",
      "\u001b[1;3;38;2;237;90;200m[Sub-question query engine] Q: What is the education of Nicolas Cage?\n",
      "\u001b[0m\u001b[1;3;38;2;237;90;200m[Sub-question query engine] A: Nicolas Cage attended UCLA School of Theater, Film and Television.\n",
      "\u001b[0m\u001b[1;3;38;2;90;149;237m[Sub-question query engine] Q: What is the education of Leonardo DiCaprio?\n",
      "\u001b[0m\u001b[1;3;38;2;90;149;237m[Sub-question query engine] A: Leonardo DiCaprio attended the Los Angeles Center for Enriched Studies for four years and later the Seeds Elementary School. He later enrolled at the John Marshall High School, but dropped out later and eventually earned a general equivalency diploma.\n",
      "\u001b[0mNicolas Cage received his education at UCLA School of Theater, Film and Television, while Leonardo DiCaprio attended the Los Angeles Center for Enriched Studies, Seeds Elementary School, and John Marshall High School before earning a general equivalency diploma.\n"
     ]
    }
   ],
   "source": [
    "response_2 = query_engine.query(\"Compare the education received by Nicolas Cage and Leonardo DiCaprio.\")\n",
    "print(str(response_2))"
   ]
  },
  {
   "cell_type": "code",
   "execution_count": 21,
   "metadata": {},
   "outputs": [
    {
     "data": {
      "text/plain": [
       "'The question requires comparing the education received by two individuals, which can be effectively broken down into simpler sub-questions.'"
      ]
     },
     "execution_count": 21,
     "metadata": {},
     "output_type": "execute_result"
    }
   ],
   "source": [
    "response_2.metadata[\"selector_result\"].selections[0].reason"
   ]
  },
  {
   "cell_type": "code",
   "execution_count": 13,
   "metadata": {},
   "outputs": [
    {
     "name": "stdout",
     "output_type": "stream",
     "text": [
      "Selecting query engine 1: The question requires complex or multifaceted information retrieval, as it involves identifying the director of a specific pilot episode and the acting debut of Nicolas Cage..\n",
      "\u001b[1;3;33m> Current query: Who directed the pilot that marked the acting debut of Nicolas Cage?\n",
      "\u001b[0m\u001b[1;3;38;5;200m> New query:  What was the name of the pilot that marked the acting debut of Nicolas Cage?\n",
      "\u001b[0m\u001b[1;3;33m> Current query: Who directed the pilot that marked the acting debut of Nicolas Cage?\n",
      "\u001b[0m\u001b[1;3;38;5;200m> New query:  Who directed The Best of Times?\n",
      "\u001b[0m\u001b[1;3;33m> Current query: Who directed the pilot that marked the acting debut of Nicolas Cage?\n",
      "\u001b[0m\u001b[1;3;38;5;200m> New query:  Who was Don Mischer?\n",
      "\u001b[0mDon Mischer\n"
     ]
    }
   ],
   "source": [
    "response_3 = query_engine.query(\"Who directed the pilot that marked the acting debut of Nicolas Cage?\")\n",
    "print(str(response_3))"
   ]
  },
  {
   "cell_type": "code",
   "execution_count": 24,
   "metadata": {},
   "outputs": [
    {
     "data": {
      "text/plain": [
       "'The question requires complex or multifaceted information retrieval, as it involves identifying the director of a specific pilot episode and the acting debut of Nicolas Cage.'"
      ]
     },
     "execution_count": 24,
     "metadata": {},
     "output_type": "execute_result"
    }
   ],
   "source": [
    "response_3.metadata[\"selector_result\"].selections[0].reason"
   ]
  }
 ],
 "metadata": {
  "kernelspec": {
   "display_name": "mira-9B0geXr7-py3.10",
   "language": "python",
   "name": "python3"
  },
  "language_info": {
   "codemirror_mode": {
    "name": "ipython",
    "version": 3
   },
   "file_extension": ".py",
   "mimetype": "text/x-python",
   "name": "python",
   "nbconvert_exporter": "python",
   "pygments_lexer": "ipython3",
   "version": "3.10.13"
  }
 },
 "nbformat": 4,
 "nbformat_minor": 2
}
